{
 "cells": [
  {
   "cell_type": "code",
   "execution_count": 3,
   "metadata": {},
   "outputs": [
    {
     "name": "stdout",
     "output_type": "stream",
     "text": [
      "[[  5.11000013   8.44000053]\n",
      " [  0.           0.        ]\n",
      " [ 24.01000214  38.23999786]]\n"
     ]
    }
   ],
   "source": [
    "# Solution is available in the other \"solution.py\" tab\n",
    "import tensorflow as tf\n",
    "\n",
    "output = None\n",
    "hidden_layer_weights = [\n",
    "    [0.1, 0.2, 0.4],\n",
    "    [0.4, 0.6, 0.6],\n",
    "    [0.5, 0.9, 0.1],\n",
    "    [0.8, 0.2, 0.8]]\n",
    "out_weights = [\n",
    "    [0.1, 0.6],\n",
    "    [0.2, 0.1],\n",
    "    [0.7, 0.9]]\n",
    "\n",
    "# Weights and biases\n",
    "weights = [\n",
    "    tf.Variable(hidden_layer_weights),\n",
    "    tf.Variable(out_weights)]\n",
    "biases = [\n",
    "    tf.Variable(tf.zeros(3)),\n",
    "    tf.Variable(tf.zeros(2))]\n",
    "\n",
    "# Input\n",
    "features = tf.Variable([[1.0, 2.0, 3.0, 4.0], [-1.0, -2.0, -3.0, -4.0], [11.0, 12.0, 13.0, 14.0]])\n",
    "\n",
    "# TODO: Create Model\n",
    "hidden_layer   =   tf.add(tf.matmul(features, weights[0]), biases[0])\n",
    "hidden_layer   =   tf.nn.relu(hidden_layer)\n",
    "logits   =   tf.add(tf.matmul(hidden_layer, weights[1]), biases[1])\n",
    "\n",
    "# TODO: Print session results\n",
    "with tf.Session() as sess:\n",
    "    sess.run(tf.global_variables_initializer())\n",
    "    print(sess.run(logits))\n"
   ]
  },
  {
   "cell_type": "markdown",
   "metadata": {},
   "source": [
    "### Logistic Classifier"
   ]
  },
  {
   "cell_type": "code",
   "execution_count": 4,
   "metadata": {},
   "outputs": [
    {
     "name": "stdout",
     "output_type": "stream",
     "text": [
      "Successfully downloaded train-images-idx3-ubyte.gz 9912422 bytes.\n",
      "Extracting .\\train-images-idx3-ubyte.gz\n",
      "Successfully downloaded train-labels-idx1-ubyte.gz 28881 bytes.\n",
      "Extracting .\\train-labels-idx1-ubyte.gz\n",
      "Successfully downloaded t10k-images-idx3-ubyte.gz 1648877 bytes.\n",
      "Extracting .\\t10k-images-idx3-ubyte.gz\n",
      "Successfully downloaded t10k-labels-idx1-ubyte.gz 4542 bytes.\n",
      "Extracting .\\t10k-labels-idx1-ubyte.gz\n"
     ]
    }
   ],
   "source": [
    "from tensorflow.examples.tutorials.mnist import input_data\n",
    "mnist   =   input_data.read_data_sets(\".\", one_hot=True, reshape=False)"
   ]
  },
  {
   "cell_type": "code",
   "execution_count": 7,
   "metadata": {
    "collapsed": true
   },
   "outputs": [],
   "source": [
    "#Learning Parameters\n",
    "import tensorflow as tf\n",
    "\n",
    "#Parameters\n",
    "learning_rate   =   0.001\n",
    "training_epochs =   20\n",
    "batch_size      =   128\n",
    "display_step    =   1\n",
    "\n",
    "n_input = 784  #28px * 28px\n",
    "n_classes = 10 #digitos del 0 al 9\n",
    "\n",
    "\n",
    "#hidden layer parameters\n",
    "n_hidden_layer =   256  #tamano de la hidden layer (width of the layer)\n",
    "\n",
    "\n",
    "##weights and biases\n",
    "weights = {\n",
    "    'hidden_layer': tf.Variable(tf.random_normal([n_input, n_hidden_layer])),\n",
    "    'out': tf.Variable(tf.random_normal([n_hidden_layer, n_classes]))\n",
    "}\n",
    "\n",
    "biases = {\n",
    "    'hidden_layer': tf.Variable(tf.random_normal([n_hidden_layer])),\n",
    "    'out': tf.Variable(tf.random_normal([n_classes]))\n",
    "}\n",
    "\n",
    "##input\n",
    "#tf Graph input\n",
    "x   =   tf.placeholder(\"float\", [None, 28, 28, 1])\n",
    "y   =   tf.placeholder(\"float\", [None, n_classes])\n",
    "\n",
    "x_flat   =   tf.reshape(x, [-1, n_input])\n"
   ]
  },
  {
   "cell_type": "code",
   "execution_count": 9,
   "metadata": {},
   "outputs": [],
   "source": [
    "##ReLU activation\n",
    "layer_1   =   tf.add(tf.matmul(x_flat, weights['hidden_layer']), biases['hidden_layer'])\n",
    "layer_1   =   tf.nn.relu(layer_1)\n",
    "\n",
    "##Linear activation\n",
    "layer_2   =   tf.add(tf.matmul(layer_1, weights['out']), biases['out'])"
   ]
  },
  {
   "cell_type": "code",
   "execution_count": 10,
   "metadata": {
    "collapsed": true
   },
   "outputs": [],
   "source": [
    "##Optimizer\n",
    "#loss and optimizer\n",
    "cost   =   tf.reduce_mean(\\\n",
    "                         tf.nn.softmax_cross_entropy_with_logits(logits=logits, labels=y)\n",
    "                         )\n",
    "optimizer   =   tf.train.GradientDescentOptimizer(learning_rate=learning_rate).minimize(cost)"
   ]
  },
  {
   "cell_type": "code",
   "execution_count": 20,
   "metadata": {},
   "outputs": [
    {
     "name": "stdout",
     "output_type": "stream",
     "text": [
      "Epoch: 0001 cost= 119.211097717\n",
      "Epoch: 0002 cost= 123.838409424\n",
      "Epoch: 0003 cost= 131.753799438\n",
      "Epoch: 0004 cost= 137.215759277\n",
      "Epoch: 0005 cost= 138.057693481\n",
      "Epoch: 0006 cost= 143.618896484\n",
      "Epoch: 0007 cost= 127.730644226\n",
      "Epoch: 0008 cost= 129.397857666\n",
      "Epoch: 0009 cost= 126.841735840\n",
      "Epoch: 0010 cost= 127.606201172\n",
      "Epoch: 0011 cost= 131.196105957\n",
      "Epoch: 0012 cost= 130.585113525\n",
      "Epoch: 0013 cost= 133.708709717\n",
      "Epoch: 0014 cost= 139.192352295\n",
      "Epoch: 0015 cost= 128.599243164\n",
      "Epoch: 0016 cost= 117.285881042\n",
      "Epoch: 0017 cost= 133.192703247\n",
      "Epoch: 0018 cost= 122.082458496\n",
      "Epoch: 0019 cost= 124.910354614\n",
      "Epoch: 0020 cost= 114.761848450\n",
      "Optimization Finished!\n",
      "Accuracy: 0.101563\n"
     ]
    }
   ],
   "source": [
    "##Session\n",
    "\n",
    "#inicializacion de variables\n",
    "init   =   tf.global_variables_initializer()\n",
    "\n",
    "#launch the graph\n",
    "with tf.Session() as sess:\n",
    "    sess.run(init)\n",
    "    \n",
    "    for epoch in range(training_epochs):\n",
    "        total_batch   =   int(mnist.train.num_examples/batch_size)\n",
    "        \n",
    "        for i in range(total_batch):\n",
    "            batch_x, batch_y = mnist.train.next_batch(batch_size)\n",
    "        \n",
    "        if epoch % display_step == 0:\n",
    "            c = sess.run(cost, feed_dict={x: batch_x, y: batch_y})\n",
    "            print(\"Epoch:\", '%04d' % (epoch+1), \"cost=\", \\\n",
    "                \"{:.9f}\".format(c))\n",
    "    print(\"Optimization Finished!\")\n",
    "\n",
    "    # Test model\n",
    "    correct_prediction = tf.equal(tf.argmax(logits, 1), tf.argmax(y, 1))\n",
    "    # Calculate accuracy\n",
    "    accuracy = tf.reduce_mean(tf.cast(correct_prediction, \"float\"))\n",
    "    # Decrease test_size if you don't have enough memory\n",
    "    test_size = 256\n",
    "    print(\"Accuracy:\", accuracy.eval({x: mnist.test.images[:test_size], y: mnist.test.labels[:test_size]}))\n",
    "\n",
    "            \n"
   ]
  }
 ],
 "metadata": {
  "kernelspec": {
   "display_name": "Python 3",
   "language": "python",
   "name": "python3"
  },
  "language_info": {
   "codemirror_mode": {
    "name": "ipython",
    "version": 3
   },
   "file_extension": ".py",
   "mimetype": "text/x-python",
   "name": "python",
   "nbconvert_exporter": "python",
   "pygments_lexer": "ipython3",
   "version": "3.5.3"
  }
 },
 "nbformat": 4,
 "nbformat_minor": 2
}
