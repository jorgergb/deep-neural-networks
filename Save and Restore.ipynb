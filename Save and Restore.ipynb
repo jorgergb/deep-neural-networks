{
 "cells": [
  {
   "cell_type": "code",
   "execution_count": 4,
   "metadata": {},
   "outputs": [
    {
     "name": "stdout",
     "output_type": "stream",
     "text": [
      "weights:\n",
      "[[-0.16968805  1.34754038 -1.40657413]\n",
      " [-0.87387323  0.41866732  0.10778923]]\n",
      "Bias\n",
      "[ 0.10220123 -0.7111364  -0.48477641]\n"
     ]
    }
   ],
   "source": [
    "## para guardar\n",
    "#   tf.train.Saver\n",
    "#guarda las variables\n",
    "\n",
    "import tensorflow as tf\n",
    "\n",
    "save_file = 'C:\\\\Users\\\\jrgomez\\\\Documents\\\\Udacity Nanodegree\\\\deep-neural-networks\\\\model.ckpt'\n",
    "\n",
    "weights   =   tf.Variable(tf.truncated_normal([2,3]))\n",
    "bias  =   tf.Variable(tf.truncated_normal([3]))\n",
    "\n",
    "saver   =   tf.train.Saver()\n",
    "\n",
    "with tf.Session() as sess:\n",
    "    \n",
    "    sess.run(tf.global_variables_initializer())\n",
    "    \n",
    "    print('weights:')\n",
    "    print(sess.run(weights))\n",
    "    print('Bias')\n",
    "    print(sess.run(bias))\n",
    "    \n",
    "    #save the model\n",
    "    saver.save(sess, save_file)"
   ]
  },
  {
   "cell_type": "markdown",
   "metadata": {},
   "source": [
    "### Loading"
   ]
  },
  {
   "cell_type": "code",
   "execution_count": 5,
   "metadata": {},
   "outputs": [
    {
     "name": "stdout",
     "output_type": "stream",
     "text": [
      "INFO:tensorflow:Restoring parameters from C:\\Users\\jrgomez\\Documents\\Udacity Nanodegree\\deep-neural-networks\\model.ckpt\n",
      "Weight:\n",
      "[[-0.44470525  0.28271329 -0.76841176]\n",
      " [-0.86061001 -1.45000815 -1.12529707]]\n",
      "Bias:\n",
      "[-0.21545587 -0.39586413  0.06289285]\n"
     ]
    }
   ],
   "source": [
    "\n",
    "#remove previous weights and bias\n",
    "tf.reset_default_graph()\n",
    "\n",
    "weights   =   tf.Variable(tf.truncated_normal([2,3]))\n",
    "bias   =   tf.Variable(tf.truncated_normal([3]))\n",
    "\n",
    "\n",
    "saver   =   tf.train.Saver()\n",
    "\n",
    "with tf.Session() as sess:\n",
    "    #carga\n",
    "    saver.restore(sess, save_file)\n",
    "    \n",
    "    #muestra los valores\n",
    "    print('Weight:')\n",
    "    print(sess.run(weights))\n",
    "    print('Bias:')\n",
    "    print(sess.run(bias))"
   ]
  },
  {
   "cell_type": "markdown",
   "metadata": {},
   "source": [
    "### Save a Trained Model"
   ]
  },
  {
   "cell_type": "code",
   "execution_count": null,
   "metadata": {
    "collapsed": true
   },
   "outputs": [],
   "source": []
  }
 ],
 "metadata": {
  "kernelspec": {
   "display_name": "Python 3",
   "language": "python",
   "name": "python3"
  },
  "language_info": {
   "codemirror_mode": {
    "name": "ipython",
    "version": 3
   },
   "file_extension": ".py",
   "mimetype": "text/x-python",
   "name": "python",
   "nbconvert_exporter": "python",
   "pygments_lexer": "ipython3",
   "version": "3.5.3"
  }
 },
 "nbformat": 4,
 "nbformat_minor": 2
}
