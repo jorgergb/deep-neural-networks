{
 "cells": [
  {
   "cell_type": "code",
   "execution_count": 1,
   "metadata": {},
   "outputs": [
    {
     "name": "stdout",
     "output_type": "stream",
     "text": [
      "weights:\n",
      "[[ 0.52238607  0.5526219   0.2892766 ]\n",
      " [ 1.21111548  0.60035288 -1.34409058]]\n",
      "Bias\n",
      "[ 0.10166606 -0.24546851  0.5087198 ]\n"
     ]
    }
   ],
   "source": [
    "## para guardar\n",
    "#   tf.train.Saver\n",
    "#guarda las variables\n",
    "\n",
    "import tensorflow as tf\n",
    "\n",
    "save_file = 'C:\\\\Users\\\\Jorge\\\\Documents\\\\Udacity Nanodegree\\\\deep-neural-networks\\\\model.ckpt'\n",
    "\n",
    "weights   =   tf.Variable(tf.truncated_normal([2,3]))\n",
    "bias  =   tf.Variable(tf.truncated_normal([3]))\n",
    "\n",
    "saver   =   tf.train.Saver()\n",
    "\n",
    "with tf.Session() as sess:\n",
    "    \n",
    "    sess.run(tf.global_variables_initializer())\n",
    "    \n",
    "    print('weights:')\n",
    "    print(sess.run(weights))\n",
    "    print('Bias')\n",
    "    print(sess.run(bias))\n",
    "    \n",
    "    #save the model\n",
    "    saver.save(sess, save_file)"
   ]
  },
  {
   "cell_type": "markdown",
   "metadata": {},
   "source": [
    "### Loading"
   ]
  },
  {
   "cell_type": "code",
   "execution_count": 2,
   "metadata": {},
   "outputs": [
    {
     "name": "stdout",
     "output_type": "stream",
     "text": [
      "INFO:tensorflow:Restoring parameters from C:\\Users\\Jorge\\Documents\\Udacity Nanodegree\\deep-neural-networks\\model.ckpt\n",
      "Weight:\n",
      "[[ 0.52238607  0.5526219   0.2892766 ]\n",
      " [ 1.21111548  0.60035288 -1.34409058]]\n",
      "Bias:\n",
      "[ 0.10166606 -0.24546851  0.5087198 ]\n"
     ]
    }
   ],
   "source": [
    "\n",
    "#remove previous weights and bias\n",
    "tf.reset_default_graph()\n",
    "\n",
    "weights   =   tf.Variable(tf.truncated_normal([2,3]))\n",
    "bias   =   tf.Variable(tf.truncated_normal([3]))\n",
    "\n",
    "\n",
    "saver   =   tf.train.Saver()\n",
    "\n",
    "with tf.Session() as sess:\n",
    "    #carga\n",
    "    saver.restore(sess, save_file)\n",
    "    \n",
    "    #muestra los valores\n",
    "    print('Weight:')\n",
    "    print(sess.run(weights))\n",
    "    print('Bias:')\n",
    "    print(sess.run(bias))"
   ]
  },
  {
   "cell_type": "markdown",
   "metadata": {},
   "source": [
    "### Save a Trained Model"
   ]
  },
  {
   "cell_type": "code",
   "execution_count": 4,
   "metadata": {},
   "outputs": [
    {
     "name": "stdout",
     "output_type": "stream",
     "text": [
      "Extracting .\\train-images-idx3-ubyte.gz\n",
      "Extracting .\\train-labels-idx1-ubyte.gz\n",
      "Extracting .\\t10k-images-idx3-ubyte.gz\n",
      "Extracting .\\t10k-labels-idx1-ubyte.gz\n"
     ]
    }
   ],
   "source": [
    "#resetear los tensores y las operaciones\n",
    "tf.reset_default_graph()\n",
    "\n",
    "from tensorflow.examples.tutorials.mnist import input_data\n",
    "import numpy as np\n",
    "\n",
    "learning_rate = 0.001\n",
    "n_input   =   784\n",
    "n_classes = 10\n",
    "\n",
    "#import data\n",
    "mnist = input_data.read_data_sets('.', one_hot=True)\n",
    "\n",
    "#features and labels\n",
    "features = tf.placeholder(tf.float32, [None, n_input])\n",
    "labels = tf.placeholder(tf.float32, [None, n_classes])\n",
    "\n",
    "#weights and bias\n",
    "weights = tf.Variable(tf.random_normal([n_input, n_classes]))\n",
    "bias   =   tf.Variable(tf.random_normal([n_classes]))\n",
    "\n",
    "#logits - xw+b\n",
    "logits = tf.add(tf.matmul(features, weights), bias)\n",
    "\n",
    "#define loss and optimizer\n",
    "cost = tf.reduce_mean(\\\n",
    "                     tf.nn.softmax_cross_entropy_with_logits(logits=logits, labels=labels))\n",
    "optimizer = tf.train.GradientDescentOptimizer(learning_rate = learning_rate).minimize(cost)\n",
    "\n",
    "#calculate accuracy\n",
    "correct_prediction = tf.equal(tf.argmax(logits, 1), tf.argmax(labels, 1))\n",
    "accuracy = tf.reduce_mean(tf.cast(correct_prediction, tf.float32))"
   ]
  },
  {
   "cell_type": "code",
   "execution_count": 5,
   "metadata": {},
   "outputs": [
    {
     "name": "stdout",
     "output_type": "stream",
     "text": [
      "Epoch 0   - Validation Accuracy: 0.13699999451637268\n",
      "Epoch 10  - Validation Accuracy: 0.2720000147819519\n",
      "Epoch 20  - Validation Accuracy: 0.412200003862381\n",
      "Epoch 30  - Validation Accuracy: 0.5135999917984009\n",
      "Epoch 40  - Validation Accuracy: 0.5730000138282776\n",
      "Epoch 50  - Validation Accuracy: 0.6161999702453613\n",
      "Epoch 60  - Validation Accuracy: 0.6480000019073486\n",
      "Epoch 70  - Validation Accuracy: 0.6704000234603882\n",
      "Epoch 80  - Validation Accuracy: 0.6894000172615051\n",
      "Epoch 90  - Validation Accuracy: 0.7111999988555908\n",
      "Trained Model Saved.\n"
     ]
    }
   ],
   "source": [
    "#train\n",
    "import math\n",
    "save_file = 'C:\\\\Users\\\\Jorge\\\\Documents\\\\Udacity Nanodegree\\\\deep-neural-networks\\\\train_model.ckpt'\n",
    "batch_size = 128\n",
    "n_epochs = 100\n",
    "\n",
    "saver = tf.train.Saver()\n",
    "\n",
    "#launch the graph\n",
    "with tf.Session() as sess:\n",
    "    sess.run(tf.global_variables_initializer())\n",
    "    \n",
    "    #ciclo de entrenamiento\n",
    "    for epoch in range(n_epochs):\n",
    "        total_batch = math.ceil(mnist.train.num_examples/batch_size)\n",
    "        \n",
    "        for i in range(total_batch):\n",
    "            batch_features, batch_labels = mnist.train.next_batch(batch_size)\n",
    "            sess.run(\n",
    "            optimizer,\n",
    "            feed_dict = {features: batch_features, labels:batch_labels})\n",
    "        \n",
    "        #impresion del estado cada 10 epocas\n",
    "        if epoch % 10 == 0:\n",
    "            valid_accuracy = sess.run(\n",
    "            accuracy,\\\n",
    "            feed_dict={\n",
    "                features: mnist.validation.images,\n",
    "                labels: mnist.validation.labels\n",
    "            }\n",
    "            )\n",
    "            print('Epoch {:<3} - Validation Accuracy: {}'.format(\n",
    "            epoch,\n",
    "            valid_accuracy))\n",
    "            \n",
    "    #guardamos el modelo\n",
    "    saver.save(sess, save_file)\n",
    "    print('Trained Model Saved.')"
   ]
  },
  {
   "cell_type": "markdown",
   "metadata": {},
   "source": [
    "### Load a Trained Model"
   ]
  },
  {
   "cell_type": "code",
   "execution_count": 6,
   "metadata": {},
   "outputs": [
    {
     "name": "stdout",
     "output_type": "stream",
     "text": [
      "INFO:tensorflow:Restoring parameters from C:\\Users\\Jorge\\Documents\\Udacity Nanodegree\\deep-neural-networks\\train_model.ckpt\n",
      "Test Accuracy: 0.728600025177002\n"
     ]
    }
   ],
   "source": [
    "saver   =   tf.train.Saver()\n",
    "\n",
    "#launch the graph\n",
    "with tf.Session() as sess:\n",
    "    saver.restore(sess, save_file)\n",
    "    \n",
    "    test_accuracy = sess.run(\n",
    "    accuracy,\n",
    "    feed_dict={features:mnist.test.images, labels:mnist.test.labels})\n",
    "    \n",
    "print('Test Accuracy: {}'.format(test_accuracy))"
   ]
  },
  {
   "cell_type": "code",
   "execution_count": null,
   "metadata": {
    "collapsed": true
   },
   "outputs": [],
   "source": []
  }
 ],
 "metadata": {
  "kernelspec": {
   "display_name": "Python 3",
   "language": "python",
   "name": "python3"
  },
  "language_info": {
   "codemirror_mode": {
    "name": "ipython",
    "version": 3
   },
   "file_extension": ".py",
   "mimetype": "text/x-python",
   "name": "python",
   "nbconvert_exporter": "python",
   "pygments_lexer": "ipython3",
   "version": "3.5.3"
  }
 },
 "nbformat": 4,
 "nbformat_minor": 2
}
